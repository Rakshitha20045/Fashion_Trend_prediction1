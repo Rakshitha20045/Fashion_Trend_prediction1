{
 "cells": [
  {
   "cell_type": "code",
   "execution_count": 9,
   "id": "85ef0f25-27d9-4f90-813f-944b803e847b",
   "metadata": {},
   "outputs": [],
   "source": [
    "import pandas as pd\n",
    "import numpy as np\n",
    "import tensorflow as tf\n",
    "from keras.models import Sequential\n",
    "from keras.layers import Conv1D, MaxPooling1D, Flatten, Dense, Dropout\n",
    "from keras.callbacks import EarlyStopping\n",
    "from sklearn.model_selection import train_test_split\n",
    "from sklearn.metrics import mean_squared_error"
   ]
  },
  {
   "cell_type": "code",
   "execution_count": 11,
   "id": "e803952e-47b9-4138-989b-e93fb166a4d2",
   "metadata": {},
   "outputs": [
    {
     "name": "stdout",
     "output_type": "stream",
     "text": [
      "succes\n"
     ]
    }
   ],
   "source": [
    "data_path = 'C:/Users/RAKSHITHA/OneDrive/Documents/Continuous_DateS_Range-LAPTOP-98PL5KBA.csv'\n",
    "df = pd.read_csv(data_path)\n",
    "print(\"succes\")"
   ]
  },
  {
   "cell_type": "code",
   "execution_count": 12,
   "id": "9c15c0a0-a673-4647-8d52-a485e1cb769e",
   "metadata": {},
   "outputs": [
    {
     "name": "stdout",
     "output_type": "stream",
     "text": [
      "  crawl_timestamp  variant_price  variant_compare_at_price  \\\n",
      "0      2019-01-01           2396                      5990   \n",
      "1      2019-01-01            698                      1995   \n",
      "2      2019-01-01            719                      1799   \n",
      "3      2019-01-01            799                      1599   \n",
      "4      2019-01-01           2024                      4499   \n",
      "\n",
      "               actual_color dominant_color  \\\n",
      "0             Black | Cream          Black   \n",
      "1                      Blue           Blue   \n",
      "2  Yellow | Brown | Mustard        Mustard   \n",
      "3             Blue | Purple           Blue   \n",
      "4                     Black          Black   \n",
      "\n",
      "                                product_type ideal_for   is_in_stock  \n",
      "0  Kurta with Pyjamas & Printed Nehru Jacket       Men      In Stock  \n",
      "1                             Straight Kurta       Men  Out of Stock  \n",
      "2                               A-Line Kurta     Women  Out of Stock  \n",
      "3                                        NaN    Unisex      In Stock  \n",
      "4                     Kurta with Dhoti Pants       Men      In Stock  \n"
     ]
    }
   ],
   "source": [
    "relevant_columns = [\n",
    "    'crawl_timestamp',\n",
    "    'variant_price',\n",
    "    'variant_compare_at_price',\n",
    "    'actual_color',\n",
    "    'dominant_color',\n",
    "    'product_type',\n",
    "    'ideal_for',\n",
    "    'is_in_stock'\n",
    "]\n",
    "\n",
    "df_selected = df[relevant_columns]\n",
    "\n",
    "# Displaying the selected dataframe\n",
    "print(df_selected.head())"
   ]
  },
  {
   "cell_type": "code",
   "execution_count": 13,
   "id": "edca18d0-5317-4530-9528-2a5d35334635",
   "metadata": {},
   "outputs": [
    {
     "name": "stdout",
     "output_type": "stream",
     "text": [
      "     crawl_timestamp(t-29)  variant_price(t-29)  \\\n",
      "1794            2019-09-15               1249.0   \n",
      "1795            2019-09-15                359.0   \n",
      "1796            2019-09-16                899.0   \n",
      "1797            2019-09-16               1119.0   \n",
      "1799            2019-09-16                749.0   \n",
      "\n",
      "      variant_compare_at_price(t-29) actual_color(t-29) dominant_color(t-29)  \\\n",
      "1794                          2499.0             Maroon               Maroon   \n",
      "1795                          1199.0              Brown                Brown   \n",
      "1796                          1799.0       Teal | Green                 Teal   \n",
      "1797                          1599.0                Red                  Red   \n",
      "1799                          1499.0               Blue                 Blue   \n",
      "\n",
      "     product_type(t-29) ideal_for(t-29) is_in_stock(t-29)  \\\n",
      "1794         Maxi Dress           Women      Out of Stock   \n",
      "1795     Flared Palazzo           Women          In Stock   \n",
      "1796     Straight Kurta           Women          In Stock   \n",
      "1797       A-Line Dress           Women      Out of Stock   \n",
      "1799         Maxi Dress           Women      Out of Stock   \n",
      "\n",
      "     crawl_timestamp(t-28)  variant_price(t-28)  ...  ideal_for(t)  \\\n",
      "1794            2019-09-15                359.0  ...           Men   \n",
      "1795            2019-09-16                899.0  ...         Women   \n",
      "1796            2019-09-16               1119.0  ...         Women   \n",
      "1797            2019-09-16               1599.0  ...         Women   \n",
      "1799            2019-09-16                561.0  ...         Women   \n",
      "\n",
      "     is_in_stock(t) crawl_timestamp(t+30) variant_price(t+30)  \\\n",
      "1794       In Stock            2019-09-24              2690.0   \n",
      "1795       In Stock            2019-09-24               419.0   \n",
      "1796       In Stock            2019-09-24               448.0   \n",
      "1797       In Stock            2019-09-24               749.0   \n",
      "1799       In Stock            2019-09-25               629.0   \n",
      "\n",
      "     variant_compare_at_price(t+30) actual_color(t+30) dominant_color(t+30)  \\\n",
      "1794                         2690.0     Maroon | Black               Maroon   \n",
      "1795                         2099.0             Orange               Orange   \n",
      "1796                         1495.0              White                White   \n",
      "1797                         2499.0              Green                Green   \n",
      "1799                         2099.0             Orange               Orange   \n",
      "\n",
      "       product_type(t+30)  ideal_for(t+30) is_in_stock(t+30)  \n",
      "1794                Tunic            Women          In Stock  \n",
      "1795           Maxi Dress            Women      Out of Stock  \n",
      "1796       Straight Kurta              Men      Out of Stock  \n",
      "1797  Kurta with Churidar              Men          In Stock  \n",
      "1799       Straight Kurta              Men          In Stock  \n",
      "\n",
      "[5 rows x 248 columns]\n"
     ]
    }
   ],
   "source": [
    "def series_to_supervised(data, window=1, lag=1, dropnan=True):\n",
    "    cols, names = [], []\n",
    "    # Input sequence (t-n, ... t-1)\n",
    "    for i in range(window, 0, -1):\n",
    "        cols.append(data.shift(i))\n",
    "        names += [('%s(t-%d)' % (col, i)) for col in data.columns]\n",
    "    # Current timestep (t=0)\n",
    "    cols.append(data)\n",
    "    names += [('%s(t)' % (col)) for col in data.columns]\n",
    "    # Target timestep (t=lag)\n",
    "    cols.append(data.shift(-lag))\n",
    "    names += [('%s(t+%d)' % (col, lag)) for col in data.columns]\n",
    "    # Put it all together\n",
    "    agg = pd.concat(cols, axis=1)\n",
    "    agg.columns = names\n",
    "    # Drop rows with NaN values\n",
    "    if dropnan:\n",
    "        agg.dropna(inplace=True)\n",
    "    return agg\n",
    "\n",
    "# Example usage:\n",
    "window_size = 29  # Example window size\n",
    "future_span = 30  # Example future span\n",
    "\n",
    "# Assuming df_selected is the dataframe with selected relevant columns\n",
    "series = series_to_supervised(df_selected, window=window_size, lag=future_span)\n",
    "print(series.head())"
   ]
  },
  {
   "cell_type": "code",
   "execution_count": 19,
   "id": "1703a036-9ff7-4746-83e6-d06183f98287",
   "metadata": {},
   "outputs": [
    {
     "name": "stdout",
     "output_type": "stream",
     "text": [
      "                            uniq_id crawl_timestamp  product_id  \\\n",
      "0  b511a3268e0fd7aa10a6d7728202aff1      2019-01-01     5965158   \n",
      "1  e0ea9e59f65f2cb82c1dd43c0d087b71      2019-01-01     2439641   \n",
      "2  e5d919fab7a0d4e976d442b5a24547aa      2019-01-01     2370037   \n",
      "3  cb1508097ed71472128cddbe569d6e22      2019-01-01     8456497   \n",
      "4  4cc45701da275bf75beeaae79e83e59d      2019-01-01     4679834   \n",
      "\n",
      "                                                link          size  \\\n",
      "0  https://www.myntra.com/kurta-sets/deyann/deyan...             M   \n",
      "1  https://www.myntra.com/kurtas/british-club/bri...            XL   \n",
      "2  https://www.myntra.com/kurtas/anouk/anouk-wome...            XS   \n",
      "3  https://www.myntra.com/bedsheets/welhome/welho...  Double Queen   \n",
      "4  https://www.myntra.com/kurta-sets/sojanya/soja...           XXL   \n",
      "\n",
      "            variant_sku         brand  \\\n",
      "0             5965158_M        DEYANN   \n",
      "1            2439641_XL  British Club   \n",
      "2            2370037_XS         Anouk   \n",
      "3  8456497_Double Queen       WELHOME   \n",
      "4           4679834_XXL       SOJANYA   \n",
      "\n",
      "                                   care_instructions dominant_material  \\\n",
      "0  Nehru jacket: 40% linen, 60% cottonKurta and p...            cotton   \n",
      "1                            100% cottonMachine-wash            cotton   \n",
      "2                                   ViscoseHand-wash           Viscose   \n",
      "3                              Cotton | Machine-wash            Cotton   \n",
      "4  Top fabric: 80% Jacquard silk, 20% cottonBotto...            cotton   \n",
      "\n",
      "                                               title  ...  \\\n",
      "0  DEYANN Men Black & Cream Solid Kurta with Pyja...  ...   \n",
      "1         British Club Men Blue Solid Straight Kurta  ...   \n",
      "2  Anouk Women Mustard Yellow & Brown Yoke Design...  ...   \n",
      "3  WELHOME Blue & Purple Geometric Flat 144 TC Co...  ...   \n",
      "4  SOJANYA Men Gold-Toned & Black Self Design Kur...  ...   \n",
      "\n",
      "                                            size_fit  \\\n",
      "0          The model (height 6') is wearing a size M   \n",
      "1          The model (height 6') is wearing a size M   \n",
      "2        The model (height 5'8\") is wearing a size S   \n",
      "3  Queen bedsheet: 2.20 m x 2.54 mPillow covers: ...   \n",
      "4          The model (height 6') is wearing a size M   \n",
      "\n",
      "                                   complete_the_look  \\\n",
      "0  Complete your look with this kurta set from DE...   \n",
      "1  Sport this classic kurta from British Club thi...   \n",
      "2  Keep it classy all year long with a stylish ku...   \n",
      "3  Give a premium touch to your bedroom with this...   \n",
      "4  Flaunt your style with a kurta from SOJANYA.  ...   \n",
      "\n",
      "                                                type variant_price  \\\n",
      "0      Clothing/Men/Kurta Sets/DEYANN/More by DEYANN          2396   \n",
      "1  Clothing/Men/Kurtas/British Club/More by Briti...           698   \n",
      "2          Clothing/Women/Kurtas/Anouk/More by Anouk           719   \n",
      "3      Home/Unisex/Bedsheets/WELHOME/More by WELHOME           799   \n",
      "4    Clothing/Men/Kurta Sets/SOJANYA/More by SOJANYA          2024   \n",
      "\n",
      "  variant_compare_at_price ideal_for   is_in_stock  \\\n",
      "0                     5990       Men      In Stock   \n",
      "1                     1995       Men  Out of Stock   \n",
      "2                     1799     Women  Out of Stock   \n",
      "3                     1599    Unisex      In Stock   \n",
      "4                     4499       Men      In Stock   \n",
      "\n",
      "                                           inventory specifications  \\\n",
      "0  Occasion : Festive | Number of Components : 4 ...            NaN   \n",
      "1  Shape : Straight | Sleeve Styling : Regular Sl...            NaN   \n",
      "2  Shape : A-Line | Sleeve Styling : Regular Slee...            NaN   \n",
      "3  Number of Pillow Covers : 2 | Print or Pattern...            NaN   \n",
      "4  Business Unit : Apparel | Sleeve Styling : Reg...            NaN   \n",
      "\n",
      "   Unnamed: 25  \n",
      "0          NaN  \n",
      "1          NaN  \n",
      "2          NaN  \n",
      "3          NaN  \n",
      "4          NaN  \n",
      "\n",
      "[5 rows x 26 columns]\n",
      "       product_id crawl_timestamp  variant_price\n",
      "8327      7263480      2019-01-01         2239.0\n",
      "5391      4679834      2019-01-01         2024.0\n",
      "11664     8456497      2019-01-01          799.0\n",
      "3638      2370037      2019-01-01          719.0\n",
      "4025      2439641      2019-01-01          698.0\n"
     ]
    }
   ],
   "source": [
    "import pandas as pd\n",
    "\n",
    "# Load your dataset\n",
    "data_path = 'C:/Users/RAKSHITHA/OneDrive/Documents/Continuous_DateS_Range-LAPTOP-98PL5KBA.csv'\n",
    "df = pd.read_csv(data_path)\n",
    "\n",
    "# Display the first few rows to understand the structure\n",
    "print(df.head())\n",
    "\n",
    "# Example of processing without 'store_id'\n",
    "# Group by relevant columns and perform aggregation (e.g., mean of variant_price by product_id)\n",
    "df_items_sales = df.groupby(['product_id', 'crawl_timestamp'], as_index=False).agg({\n",
    "    'variant_price': 'mean'\n",
    "})\n",
    "\n",
    "# Optionally, sort the data by crawl_timestamp or any other relevant column\n",
    "df_items_sales = df_items_sales.sort_values('crawl_timestamp')\n",
    "\n",
    "# Display the processed dataframe\n",
    "print(df_items_sales.head())\n"
   ]
  },
  {
   "cell_type": "code",
   "execution_count": 22,
   "id": "df81fe95-d33a-49f2-a918-ec4e6adaec6a",
   "metadata": {},
   "outputs": [
    {
     "name": "stdout",
     "output_type": "stream",
     "text": [
      "       product_id(t-29)  variant_price(t-29)  product_id(t-28)  \\\n",
      "13929         7263480.0               2239.0         4679834.0   \n",
      "3802          4679834.0               2024.0         8456497.0   \n",
      "11238         8456497.0                799.0         2370037.0   \n",
      "4389          2370037.0                719.0         2439641.0   \n",
      "618           2439641.0                698.0         9005383.0   \n",
      "\n",
      "       variant_price(t-28)  product_id(t-27)  variant_price(t-27)  \\\n",
      "13929               2024.0         8456497.0                799.0   \n",
      "3802                 799.0         2370037.0                719.0   \n",
      "11238                719.0         2439641.0                698.0   \n",
      "4389                 698.0         9005383.0               3374.0   \n",
      "618                 3374.0         5965158.0               2396.0   \n",
      "\n",
      "       product_id(t-26)  variant_price(t-26)  product_id(t-25)  \\\n",
      "13929         2370037.0                719.0         2439641.0   \n",
      "3802          2439641.0                698.0         9005383.0   \n",
      "11238         9005383.0               3374.0         5965158.0   \n",
      "4389          5965158.0               2396.0         2310250.0   \n",
      "618           2310250.0               1999.0         7782595.0   \n",
      "\n",
      "       variant_price(t-25)  ...  product_id(t-3)  variant_price(t-3)  \\\n",
      "13929                698.0  ...        8806885.0              2174.0   \n",
      "3802                3374.0  ...        2477309.0               824.0   \n",
      "11238               2396.0  ...        7330064.0               399.0   \n",
      "4389                1999.0  ...        9595743.0              2499.0   \n",
      "618                  779.0  ...        2399946.0               324.0   \n",
      "\n",
      "       product_id(t-2)  variant_price(t-2)  product_id(t-1)  \\\n",
      "13929        2477309.0               824.0        7330064.0   \n",
      "3802         7330064.0               399.0        9595743.0   \n",
      "11238        9595743.0              2499.0        2399946.0   \n",
      "4389         2399946.0               324.0        8303827.0   \n",
      "618          8303827.0              1436.0        2479759.0   \n",
      "\n",
      "       variant_price(t-1)  product_id(t)  variant_price(t)  product_id(t+30)  \\\n",
      "13929               399.0        9595743            2499.0         7706520.0   \n",
      "3802               2499.0        2399946             324.0         2094652.0   \n",
      "11238               324.0        8303827            1436.0         7785576.0   \n",
      "4389               1436.0        2479759            1644.0         8349991.0   \n",
      "618                1644.0        1542182            2294.0         2121023.0   \n",
      "\n",
      "       variant_price(t+30)  \n",
      "13929                664.0  \n",
      "3802                 697.0  \n",
      "11238               1959.0  \n",
      "4389                 799.0  \n",
      "618                  759.0  \n",
      "\n",
      "[5 rows x 62 columns]\n"
     ]
    }
   ],
   "source": [
    "# Parameters for sequence generation\n",
    "window = 29\n",
    "future_span = 30\n",
    "\n",
    "# Create sequences using the processed data\n",
    "series = series_to_supervised(df_items_sales.drop('crawl_timestamp', axis=1), window=window, lag=future_span)\n",
    "\n",
    "# Display the first few rows of the generated sequence data\n",
    "print(series.head())"
   ]
  },
  {
   "cell_type": "code",
   "execution_count": 23,
   "id": "d3b2bb6c-4caa-44c7-af84-3ea8bda4e4f8",
   "metadata": {},
   "outputs": [
    {
     "name": "stdout",
     "output_type": "stream",
     "text": [
      "       product_id(t)  variant_price(t)  product_id(t+30)  variant_price(t+30)\n",
      "4854         3250330             749.0         8791459.0                849.0\n",
      "11378        8349325             679.0         9934875.0               1104.0\n",
      "487          1464015            2690.0         7424730.0               1274.0\n"
     ]
    }
   ],
   "source": [
    "# Define the window size\n",
    "window = 29\n",
    "\n",
    "# Identify the last item and store columns based on the window size\n",
    "last_product = 'product_id(t-%d)' % window\n",
    "last_variant_price = 'variant_price(t-%d)' % window\n",
    "current_product = 'product_id(t)'\n",
    "current_variant_price = 'variant_price(t)'\n",
    "\n",
    "# Filter the series to remove edge cases where not enough values to complete a series\n",
    "series = series[(series[current_product] == series[last_product])]\n",
    "series = series[(series[current_variant_price] == series[last_variant_price])]\n",
    "\n",
    "# Since you mentioned predicting using the 'variant_price' column, ensure it's included\n",
    "# You might need to adjust this part based on your specific modeling needs\n",
    "# Assuming 'variant_price(t+30)' is the target column for prediction\n",
    "series_to_predict = series[['product_id(t)', 'variant_price(t)', 'product_id(t+30)', 'variant_price(t+30)']]\n",
    "\n",
    "# Display the filtered series\n",
    "print(series_to_predict.head())\n"
   ]
  },
  {
   "cell_type": "code",
   "execution_count": 24,
   "id": "867de8e1-4cf3-478b-a7e4-8f2631ff5b82",
   "metadata": {},
   "outputs": [
    {
     "name": "stdout",
     "output_type": "stream",
     "text": [
      "       product_id(t-29)  variant_price(t-29)  product_id(t-28)  \\\n",
      "4854          3250330.0                749.0         8056613.0   \n",
      "11378         8349325.0                679.0         8965245.0   \n",
      "487           1464015.0               2690.0         1536736.0   \n",
      "\n",
      "       variant_price(t-28)  product_id(t-27)  variant_price(t-27)  \\\n",
      "4854                1624.0         3890441.0               1959.0   \n",
      "11378               1890.0         9430329.0                990.0   \n",
      "487                  599.0         1585055.0                524.0   \n",
      "\n",
      "       product_id(t-26)  variant_price(t-26)  product_id(t-25)  \\\n",
      "4854          8113883.0               1049.0         8791333.0   \n",
      "11378         2064394.0               2239.0         6971964.0   \n",
      "487           7419469.0               1599.0         2241424.0   \n",
      "\n",
      "       variant_price(t-25)  ...  product_id(t-3)  variant_price(t-3)  \\\n",
      "4854                 799.0  ...        8627491.0              1349.0   \n",
      "11378               8478.0  ...        9366067.0               679.0   \n",
      "487                  649.0  ...        6834911.0              2999.0   \n",
      "\n",
      "       product_id(t-2)  variant_price(t-2)  product_id(t-1)  \\\n",
      "4854         8420247.0              1349.0        9834351.0   \n",
      "11378        6844858.0              3025.0        7623982.0   \n",
      "487          2329159.0              1699.0        2418579.0   \n",
      "\n",
      "       variant_price(t-1)  product_id(t)  variant_price(t)  product_id(t+30)  \\\n",
      "4854                344.0        3250330             749.0         8791459.0   \n",
      "11378               519.0        8349325             679.0         9934875.0   \n",
      "487                1247.0        1464015            2690.0         7424730.0   \n",
      "\n",
      "       variant_price(t+30)  \n",
      "4854                 849.0  \n",
      "11378               1104.0  \n",
      "487                 1274.0  \n",
      "\n",
      "[3 rows x 62 columns]\n"
     ]
    }
   ],
   "source": [
    "# Define the column names based on your dataset structure\n",
    "last_product = 'product_id(t-%d)' % window\n",
    "current_product = 'product_id(t)'\n",
    "\n",
    "last_variant_price = 'variant_price(t-%d)' % window\n",
    "current_variant_price = 'variant_price(t)'\n",
    "\n",
    "# Filter out sequences that do not have enough data points\n",
    "series_filtered = series[\n",
    "    (series[current_product].notnull()) &  # Ensure current product id is not null\n",
    "    (series[current_variant_price].notnull()) &  # Ensure current variant price is not null\n",
    "    (series[last_product].notnull()) &  # Ensure last product id in window is not null\n",
    "    (series[last_variant_price].notnull()) &  # Ensure last variant price in window is not null\n",
    "    (series['product_id(t+30)'].notnull())  # Ensure there's a value for product id 30 steps ahead\n",
    "]\n",
    "\n",
    "# Display the filtered series or use it for further processing\n",
    "print(series_filtered.head())"
   ]
  },
  {
   "cell_type": "code",
   "execution_count": 30,
   "id": "77604a61-21fe-4194-84ed-21e6efbe6b00",
   "metadata": {},
   "outputs": [
    {
     "name": "stdout",
     "output_type": "stream",
     "text": [
      "Columns in series DataFrame:\n",
      "Index([], dtype='object')\n",
      "\n",
      "Modified DataFrame:\n",
      "Empty DataFrame\n",
      "Columns: []\n",
      "Index: [4854, 11378, 487]\n"
     ]
    }
   ],
   "source": [
    "# Assuming you have already created or loaded your series dataframe\n",
    "# Define your window size and future span\n",
    "window = 29\n",
    "future_span = 30\n",
    "\n",
    "# Define the column names based on your dataset structure\n",
    "last_variant_price = 'variant_price(t-%d)' % window\n",
    "current_variant_price = 'variant_price(t)'\n",
    "\n",
    "# Print out the columns in series to verify their names\n",
    "print(\"Columns in series DataFrame:\")\n",
    "print(series.columns)\n",
    "\n",
    "# Remove all but the variant_price (or sales) column\n",
    "columns_to_drop = [('%s(t+%d)' % (col, future_span)) for col in ['product_id', 'variant_price']]\n",
    "for i in range(window, 0, -1):\n",
    "    columns_to_drop += [('%s(t-%d)' % (col, i)) for col in ['product_id', 'variant_price']]\n",
    "\n",
    "# Drop the columns if they exist in the dataframe\n",
    "series = series.drop(columns=[col for col in columns_to_drop if col in series.columns], errors='ignore')\n",
    "\n",
    "# Display the modified series or use it for further processing\n",
    "print(\"\\nModified DataFrame:\")\n",
    "print(series.head())"
   ]
  },
  {
   "cell_type": "code",
   "execution_count": 36,
   "id": "fe59b031-cd29-4ed9-bacf-43d32125ceb7",
   "metadata": {},
   "outputs": [
    {
     "name": "stdout",
     "output_type": "stream",
     "text": [
      "True\n"
     ]
    }
   ],
   "source": [
    "# Load your dataset\n",
    "data_path = 'C:/Users/RAKSHITHA/OneDrive/Documents/Continuous_DateS_Range-LAPTOP-98PL5KBA.csv'\n",
    "df = pd.read_csv(data_path)\n",
    "\n",
    "# Define the window size and future span\n",
    "window = 29\n",
    "future_span = 30\n",
    "\n",
    "# Create lagged features for variant_price\n",
    "for i in range(1, window + 1):\n",
    "    df[f'variant_price(t-{i})'] = df['variant_price'].shift(i)\n",
    "\n",
    "# Create the future prediction column variant_price(t+30)\n",
    "df[f'variant_price(t+{future_span})'] = df['variant_price'].shift(-future_span)\n",
    "\n",
    "# Now, verify if variant_price(t+30) is in the DataFrame columns\n",
    "print('variant_price(t+30)' in df.columns)\n"
   ]
  },
  {
   "cell_type": "code",
   "execution_count": 37,
   "id": "7e734c50-668e-4ec7-b200-760b9c95be37",
   "metadata": {
    "scrolled": true
   },
   "outputs": [
    {
     "name": "stdout",
     "output_type": "stream",
     "text": [
      "Train set shape: (9000, 55)\n",
      "Validation set shape: (6000, 55)\n",
      "\n",
      "First few rows of X_train:\n",
      "                                uniq_id crawl_timestamp  product_id  \\\n",
      "4434   04ac75e6b8e651b0321c68fe38b285b6      2020-10-09     8178285   \n",
      "738    968bf8689a12587ce23c1dec60fc02c5      2019-04-18     9479303   \n",
      "10827  00d9f8e29e2bc84f69a02e424c9037b0      2023-05-01     6914116   \n",
      "13200  07ed01165e6ed6b72a1ae7ace078eb38      2024-04-12     5125465   \n",
      "13639  22cd7d6b965d8950e2e89243de04f298      2024-06-15      326955   \n",
      "\n",
      "                                                    link size variant_sku  \\\n",
      "4434   https://www.myntra.com/kurta-sets/rajubhai-har...   XL  8178285_XL   \n",
      "738    https://www.myntra.com/kurtas/libas/libas-wome...    L   9479303_L   \n",
      "10827                     https://www.myntra.com/6914116    S   6914116_S   \n",
      "13200                     https://www.myntra.com/5125465   XL  5125465_XL   \n",
      "13639                      https://www.myntra.com/326955   XL   326955_XL   \n",
      "\n",
      "                      brand  \\\n",
      "4434   RAJUBHAI HARGOVINDAS   \n",
      "738                   Libas   \n",
      "10827         all about you   \n",
      "13200               Wintage   \n",
      "13639                  even   \n",
      "\n",
      "                                       care_instructions dominant_material  \\\n",
      "4434   Top fabric: Pure Cotton | Bottom fabric: Pure ...            Cotton   \n",
      "738                         Viscose Rayon | Machine-wash     Viscose Rayon   \n",
      "10827                       Viscose Rayon | Machine-wash     Viscose Rayon   \n",
      "13200  Top fabric: Pure Cotton | Bottom fabric: Pure ...            Cotton   \n",
      "13639                                 Cotton | Hand wash            Cotton   \n",
      "\n",
      "                                                   title  ...  \\\n",
      "4434   RAJUBHAI HARGOVINDAS Men Yellow & White Solid ...  ...   \n",
      "738    Libas Women Orange & Beige Checked Straight Kurta  ...   \n",
      "10827  all about you from Deepika Padukone White & Na...  ...   \n",
      "13200         Wintage Men White Solid Kurta with Pyjamas  ...   \n",
      "13639                               even Men Green Kurta  ...   \n",
      "\n",
      "      variant_price(t-20) variant_price(t-21) variant_price(t-22)  \\\n",
      "4434                499.0              2349.0               999.0   \n",
      "738                 664.0              2271.0               799.0   \n",
      "10827              1479.0               674.0               599.0   \n",
      "13200               944.0               399.0              7499.0   \n",
      "13639               499.0               594.0              1899.0   \n",
      "\n",
      "      variant_price(t-23) variant_price(t-24) variant_price(t-25)  \\\n",
      "4434                519.0               999.0               989.0   \n",
      "738                 949.0               899.0              1279.0   \n",
      "10827               959.0              1349.0               599.0   \n",
      "13200              2899.0              1499.0               999.0   \n",
      "13639               758.0              1099.0               679.0   \n",
      "\n",
      "      variant_price(t-26) variant_price(t-27) variant_price(t-28)  \\\n",
      "4434               1299.0              1079.0              1499.0   \n",
      "738                 899.0               519.0               639.0   \n",
      "10827              1699.0               749.0              1498.0   \n",
      "13200              1525.0               765.0               509.0   \n",
      "13639              1819.0              1299.0               949.0   \n",
      "\n",
      "       variant_price(t-29)  \n",
      "4434                 790.0  \n",
      "738                  424.0  \n",
      "10827               5799.0  \n",
      "13200               1375.0  \n",
      "13639               1209.0  \n",
      "\n",
      "[5 rows x 55 columns]\n"
     ]
    }
   ],
   "source": [
    "from sklearn.model_selection import train_test_split\n",
    "\n",
    "# Define the label column\n",
    "labels_col = f'variant_price(t+{future_span})'\n",
    "\n",
    "# Extract labels (future prices)\n",
    "labels = df[labels_col]\n",
    "\n",
    "# Drop the label column from predictors (X sequences)\n",
    "X = df.drop(labels_col, axis=1)\n",
    "\n",
    "# Split the data into training and validation sets\n",
    "X_train, X_valid, Y_train, Y_valid = train_test_split(X, labels, test_size=0.4, random_state=0)\n",
    "\n",
    "# Display the shapes of the datasets\n",
    "print('Train set shape:', X_train.shape)\n",
    "print('Validation set shape:', X_valid.shape)\n",
    "\n",
    "# Display the first few rows of X_train for verification\n",
    "print('\\nFirst few rows of X_train:')\n",
    "print(X_train.head())\n"
   ]
  },
  {
   "cell_type": "code",
   "execution_count": 38,
   "id": "7d2023af-8f34-4b9c-a4c2-c7f6b01ff1e0",
   "metadata": {},
   "outputs": [
    {
     "name": "stdout",
     "output_type": "stream",
     "text": [
      "Train set shape: (9000, 55, 1)\n",
      "Validation set shape: (6000, 55, 1)\n"
     ]
    }
   ],
   "source": [
    "# Assuming X_train and X_valid are your prepared predictor DataFrames\n",
    "\n",
    "# Reshape X_train and X_valid into 3D arrays\n",
    "X_train_series = X_train.values.reshape((X_train.shape[0], X_train.shape[1], 1))\n",
    "X_valid_series = X_valid.values.reshape((X_valid.shape[0], X_valid.shape[1], 1))\n",
    "\n",
    "# Print the shapes of the reshaped arrays\n",
    "print('Train set shape:', X_train_series.shape)\n",
    "print('Validation set shape:', X_valid_series.shape)"
   ]
  },
  {
   "cell_type": "code",
   "execution_count": 39,
   "id": "4db3d349-3ff8-477c-83a3-7c567561a83d",
   "metadata": {},
   "outputs": [
    {
     "name": "stderr",
     "output_type": "stream",
     "text": [
      "C:\\Users\\RAKSHITHA\\AppData\\Local\\Programs\\Python\\Python312\\Lib\\site-packages\\keras\\src\\layers\\convolutional\\base_conv.py:107: UserWarning: Do not pass an `input_shape`/`input_dim` argument to a layer. When using Sequential models, prefer using an `Input(shape)` object as the first layer in the model instead.\n",
      "  super().__init__(activity_regularizer=activity_regularizer, **kwargs)\n"
     ]
    },
    {
     "data": {
      "text/html": [
       "<pre style=\"white-space:pre;overflow-x:auto;line-height:normal;font-family:Menlo,'DejaVu Sans Mono',consolas,'Courier New',monospace\"><span style=\"font-weight: bold\">Model: \"sequential\"</span>\n",
       "</pre>\n"
      ],
      "text/plain": [
       "\u001b[1mModel: \"sequential\"\u001b[0m\n"
      ]
     },
     "metadata": {},
     "output_type": "display_data"
    },
    {
     "data": {
      "text/html": [
       "<pre style=\"white-space:pre;overflow-x:auto;line-height:normal;font-family:Menlo,'DejaVu Sans Mono',consolas,'Courier New',monospace\">┏━━━━━━━━━━━━━━━━━━━━━━━━━━━━━━━━━━━━━━┳━━━━━━━━━━━━━━━━━━━━━━━━━━━━━┳━━━━━━━━━━━━━━━━━┓\n",
       "┃<span style=\"font-weight: bold\"> Layer (type)                         </span>┃<span style=\"font-weight: bold\"> Output Shape                </span>┃<span style=\"font-weight: bold\">         Param # </span>┃\n",
       "┡━━━━━━━━━━━━━━━━━━━━━━━━━━━━━━━━━━━━━━╇━━━━━━━━━━━━━━━━━━━━━━━━━━━━━╇━━━━━━━━━━━━━━━━━┩\n",
       "│ conv1d (<span style=\"color: #0087ff; text-decoration-color: #0087ff\">Conv1D</span>)                      │ (<span style=\"color: #00d7ff; text-decoration-color: #00d7ff\">None</span>, <span style=\"color: #00af00; text-decoration-color: #00af00\">48</span>, <span style=\"color: #00af00; text-decoration-color: #00af00\">64</span>)              │             <span style=\"color: #00af00; text-decoration-color: #00af00\">576</span> │\n",
       "├──────────────────────────────────────┼─────────────────────────────┼─────────────────┤\n",
       "│ max_pooling1d (<span style=\"color: #0087ff; text-decoration-color: #0087ff\">MaxPooling1D</span>)         │ (<span style=\"color: #00d7ff; text-decoration-color: #00d7ff\">None</span>, <span style=\"color: #00af00; text-decoration-color: #00af00\">24</span>, <span style=\"color: #00af00; text-decoration-color: #00af00\">64</span>)              │               <span style=\"color: #00af00; text-decoration-color: #00af00\">0</span> │\n",
       "├──────────────────────────────────────┼─────────────────────────────┼─────────────────┤\n",
       "│ flatten (<span style=\"color: #0087ff; text-decoration-color: #0087ff\">Flatten</span>)                    │ (<span style=\"color: #00d7ff; text-decoration-color: #00d7ff\">None</span>, <span style=\"color: #00af00; text-decoration-color: #00af00\">1536</span>)                │               <span style=\"color: #00af00; text-decoration-color: #00af00\">0</span> │\n",
       "├──────────────────────────────────────┼─────────────────────────────┼─────────────────┤\n",
       "│ dense (<span style=\"color: #0087ff; text-decoration-color: #0087ff\">Dense</span>)                        │ (<span style=\"color: #00d7ff; text-decoration-color: #00d7ff\">None</span>, <span style=\"color: #00af00; text-decoration-color: #00af00\">50</span>)                  │          <span style=\"color: #00af00; text-decoration-color: #00af00\">76,850</span> │\n",
       "├──────────────────────────────────────┼─────────────────────────────┼─────────────────┤\n",
       "│ dropout (<span style=\"color: #0087ff; text-decoration-color: #0087ff\">Dropout</span>)                    │ (<span style=\"color: #00d7ff; text-decoration-color: #00d7ff\">None</span>, <span style=\"color: #00af00; text-decoration-color: #00af00\">50</span>)                  │               <span style=\"color: #00af00; text-decoration-color: #00af00\">0</span> │\n",
       "├──────────────────────────────────────┼─────────────────────────────┼─────────────────┤\n",
       "│ dense_1 (<span style=\"color: #0087ff; text-decoration-color: #0087ff\">Dense</span>)                      │ (<span style=\"color: #00d7ff; text-decoration-color: #00d7ff\">None</span>, <span style=\"color: #00af00; text-decoration-color: #00af00\">1</span>)                   │              <span style=\"color: #00af00; text-decoration-color: #00af00\">51</span> │\n",
       "└──────────────────────────────────────┴─────────────────────────────┴─────────────────┘\n",
       "</pre>\n"
      ],
      "text/plain": [
       "┏━━━━━━━━━━━━━━━━━━━━━━━━━━━━━━━━━━━━━━┳━━━━━━━━━━━━━━━━━━━━━━━━━━━━━┳━━━━━━━━━━━━━━━━━┓\n",
       "┃\u001b[1m \u001b[0m\u001b[1mLayer (type)                        \u001b[0m\u001b[1m \u001b[0m┃\u001b[1m \u001b[0m\u001b[1mOutput Shape               \u001b[0m\u001b[1m \u001b[0m┃\u001b[1m \u001b[0m\u001b[1m        Param #\u001b[0m\u001b[1m \u001b[0m┃\n",
       "┡━━━━━━━━━━━━━━━━━━━━━━━━━━━━━━━━━━━━━━╇━━━━━━━━━━━━━━━━━━━━━━━━━━━━━╇━━━━━━━━━━━━━━━━━┩\n",
       "│ conv1d (\u001b[38;5;33mConv1D\u001b[0m)                      │ (\u001b[38;5;45mNone\u001b[0m, \u001b[38;5;34m48\u001b[0m, \u001b[38;5;34m64\u001b[0m)              │             \u001b[38;5;34m576\u001b[0m │\n",
       "├──────────────────────────────────────┼─────────────────────────────┼─────────────────┤\n",
       "│ max_pooling1d (\u001b[38;5;33mMaxPooling1D\u001b[0m)         │ (\u001b[38;5;45mNone\u001b[0m, \u001b[38;5;34m24\u001b[0m, \u001b[38;5;34m64\u001b[0m)              │               \u001b[38;5;34m0\u001b[0m │\n",
       "├──────────────────────────────────────┼─────────────────────────────┼─────────────────┤\n",
       "│ flatten (\u001b[38;5;33mFlatten\u001b[0m)                    │ (\u001b[38;5;45mNone\u001b[0m, \u001b[38;5;34m1536\u001b[0m)                │               \u001b[38;5;34m0\u001b[0m │\n",
       "├──────────────────────────────────────┼─────────────────────────────┼─────────────────┤\n",
       "│ dense (\u001b[38;5;33mDense\u001b[0m)                        │ (\u001b[38;5;45mNone\u001b[0m, \u001b[38;5;34m50\u001b[0m)                  │          \u001b[38;5;34m76,850\u001b[0m │\n",
       "├──────────────────────────────────────┼─────────────────────────────┼─────────────────┤\n",
       "│ dropout (\u001b[38;5;33mDropout\u001b[0m)                    │ (\u001b[38;5;45mNone\u001b[0m, \u001b[38;5;34m50\u001b[0m)                  │               \u001b[38;5;34m0\u001b[0m │\n",
       "├──────────────────────────────────────┼─────────────────────────────┼─────────────────┤\n",
       "│ dense_1 (\u001b[38;5;33mDense\u001b[0m)                      │ (\u001b[38;5;45mNone\u001b[0m, \u001b[38;5;34m1\u001b[0m)                   │              \u001b[38;5;34m51\u001b[0m │\n",
       "└──────────────────────────────────────┴─────────────────────────────┴─────────────────┘\n"
      ]
     },
     "metadata": {},
     "output_type": "display_data"
    },
    {
     "data": {
      "text/html": [
       "<pre style=\"white-space:pre;overflow-x:auto;line-height:normal;font-family:Menlo,'DejaVu Sans Mono',consolas,'Courier New',monospace\"><span style=\"font-weight: bold\"> Total params: </span><span style=\"color: #00af00; text-decoration-color: #00af00\">77,477</span> (302.64 KB)\n",
       "</pre>\n"
      ],
      "text/plain": [
       "\u001b[1m Total params: \u001b[0m\u001b[38;5;34m77,477\u001b[0m (302.64 KB)\n"
      ]
     },
     "metadata": {},
     "output_type": "display_data"
    },
    {
     "data": {
      "text/html": [
       "<pre style=\"white-space:pre;overflow-x:auto;line-height:normal;font-family:Menlo,'DejaVu Sans Mono',consolas,'Courier New',monospace\"><span style=\"font-weight: bold\"> Trainable params: </span><span style=\"color: #00af00; text-decoration-color: #00af00\">77,477</span> (302.64 KB)\n",
       "</pre>\n"
      ],
      "text/plain": [
       "\u001b[1m Trainable params: \u001b[0m\u001b[38;5;34m77,477\u001b[0m (302.64 KB)\n"
      ]
     },
     "metadata": {},
     "output_type": "display_data"
    },
    {
     "data": {
      "text/html": [
       "<pre style=\"white-space:pre;overflow-x:auto;line-height:normal;font-family:Menlo,'DejaVu Sans Mono',consolas,'Courier New',monospace\"><span style=\"font-weight: bold\"> Non-trainable params: </span><span style=\"color: #00af00; text-decoration-color: #00af00\">0</span> (0.00 B)\n",
       "</pre>\n"
      ],
      "text/plain": [
       "\u001b[1m Non-trainable params: \u001b[0m\u001b[38;5;34m0\u001b[0m (0.00 B)\n"
      ]
     },
     "metadata": {},
     "output_type": "display_data"
    }
   ],
   "source": [
    "import tensorflow as tf\n",
    "from keras.models import Sequential\n",
    "from keras.layers import Conv1D, MaxPooling1D, Dense, Flatten, Dropout\n",
    "from keras.optimizers import Adam\n",
    "\n",
    "# Parameters\n",
    "epochs = 500\n",
    "batch_size = 256\n",
    "learning_rate = 0.0003\n",
    "adam = Adam(learning_rate)\n",
    "\n",
    "# Construct the neural network model\n",
    "model_cnn = Sequential()\n",
    "model_cnn.add(Conv1D(filters=64, kernel_size=8, activation='relu', input_shape=(X_train_series.shape[1], X_train_series.shape[2])))\n",
    "model_cnn.add(MaxPooling1D(pool_size=2))\n",
    "model_cnn.add(Flatten())\n",
    "model_cnn.add(Dense(50, activation='relu'))\n",
    "model_cnn.add(Dropout(0.2))\n",
    "model_cnn.add(Dense(1))\n",
    "\n",
    "# Compile the model\n",
    "model_cnn.compile(loss='mse', optimizer=adam)\n",
    "\n",
    "# Display the model summary\n",
    "model_cnn.summary()\n"
   ]
  },
  {
   "cell_type": "code",
   "execution_count": 44,
   "id": "a7886fea-6a2b-4695-a385-98ab32d78850",
   "metadata": {},
   "outputs": [
    {
     "name": "stdout",
     "output_type": "stream",
     "text": [
      "Train set shape: (8964, 30, 1)\n",
      "Validation set shape: (5977, 30, 1)\n"
     ]
    },
    {
     "name": "stderr",
     "output_type": "stream",
     "text": [
      "C:\\Users\\RAKSHITHA\\AppData\\Local\\Programs\\Python\\Python312\\Lib\\site-packages\\keras\\src\\layers\\convolutional\\base_conv.py:107: UserWarning: Do not pass an `input_shape`/`input_dim` argument to a layer. When using Sequential models, prefer using an `Input(shape)` object as the first layer in the model instead.\n",
      "  super().__init__(activity_regularizer=activity_regularizer, **kwargs)\n"
     ]
    },
    {
     "data": {
      "text/html": [
       "<pre style=\"white-space:pre;overflow-x:auto;line-height:normal;font-family:Menlo,'DejaVu Sans Mono',consolas,'Courier New',monospace\"><span style=\"font-weight: bold\">Model: \"sequential_2\"</span>\n",
       "</pre>\n"
      ],
      "text/plain": [
       "\u001b[1mModel: \"sequential_2\"\u001b[0m\n"
      ]
     },
     "metadata": {},
     "output_type": "display_data"
    },
    {
     "data": {
      "text/html": [
       "<pre style=\"white-space:pre;overflow-x:auto;line-height:normal;font-family:Menlo,'DejaVu Sans Mono',consolas,'Courier New',monospace\">┏━━━━━━━━━━━━━━━━━━━━━━━━━━━━━━━━━━━━━━┳━━━━━━━━━━━━━━━━━━━━━━━━━━━━━┳━━━━━━━━━━━━━━━━━┓\n",
       "┃<span style=\"font-weight: bold\"> Layer (type)                         </span>┃<span style=\"font-weight: bold\"> Output Shape                </span>┃<span style=\"font-weight: bold\">         Param # </span>┃\n",
       "┡━━━━━━━━━━━━━━━━━━━━━━━━━━━━━━━━━━━━━━╇━━━━━━━━━━━━━━━━━━━━━━━━━━━━━╇━━━━━━━━━━━━━━━━━┩\n",
       "│ conv1d_2 (<span style=\"color: #0087ff; text-decoration-color: #0087ff\">Conv1D</span>)                    │ (<span style=\"color: #00d7ff; text-decoration-color: #00d7ff\">None</span>, <span style=\"color: #00af00; text-decoration-color: #00af00\">23</span>, <span style=\"color: #00af00; text-decoration-color: #00af00\">64</span>)              │             <span style=\"color: #00af00; text-decoration-color: #00af00\">576</span> │\n",
       "├──────────────────────────────────────┼─────────────────────────────┼─────────────────┤\n",
       "│ max_pooling1d_2 (<span style=\"color: #0087ff; text-decoration-color: #0087ff\">MaxPooling1D</span>)       │ (<span style=\"color: #00d7ff; text-decoration-color: #00d7ff\">None</span>, <span style=\"color: #00af00; text-decoration-color: #00af00\">11</span>, <span style=\"color: #00af00; text-decoration-color: #00af00\">64</span>)              │               <span style=\"color: #00af00; text-decoration-color: #00af00\">0</span> │\n",
       "├──────────────────────────────────────┼─────────────────────────────┼─────────────────┤\n",
       "│ flatten_2 (<span style=\"color: #0087ff; text-decoration-color: #0087ff\">Flatten</span>)                  │ (<span style=\"color: #00d7ff; text-decoration-color: #00d7ff\">None</span>, <span style=\"color: #00af00; text-decoration-color: #00af00\">704</span>)                 │               <span style=\"color: #00af00; text-decoration-color: #00af00\">0</span> │\n",
       "├──────────────────────────────────────┼─────────────────────────────┼─────────────────┤\n",
       "│ dense_4 (<span style=\"color: #0087ff; text-decoration-color: #0087ff\">Dense</span>)                      │ (<span style=\"color: #00d7ff; text-decoration-color: #00d7ff\">None</span>, <span style=\"color: #00af00; text-decoration-color: #00af00\">50</span>)                  │          <span style=\"color: #00af00; text-decoration-color: #00af00\">35,250</span> │\n",
       "├──────────────────────────────────────┼─────────────────────────────┼─────────────────┤\n",
       "│ dropout_2 (<span style=\"color: #0087ff; text-decoration-color: #0087ff\">Dropout</span>)                  │ (<span style=\"color: #00d7ff; text-decoration-color: #00d7ff\">None</span>, <span style=\"color: #00af00; text-decoration-color: #00af00\">50</span>)                  │               <span style=\"color: #00af00; text-decoration-color: #00af00\">0</span> │\n",
       "├──────────────────────────────────────┼─────────────────────────────┼─────────────────┤\n",
       "│ dense_5 (<span style=\"color: #0087ff; text-decoration-color: #0087ff\">Dense</span>)                      │ (<span style=\"color: #00d7ff; text-decoration-color: #00d7ff\">None</span>, <span style=\"color: #00af00; text-decoration-color: #00af00\">1</span>)                   │              <span style=\"color: #00af00; text-decoration-color: #00af00\">51</span> │\n",
       "└──────────────────────────────────────┴─────────────────────────────┴─────────────────┘\n",
       "</pre>\n"
      ],
      "text/plain": [
       "┏━━━━━━━━━━━━━━━━━━━━━━━━━━━━━━━━━━━━━━┳━━━━━━━━━━━━━━━━━━━━━━━━━━━━━┳━━━━━━━━━━━━━━━━━┓\n",
       "┃\u001b[1m \u001b[0m\u001b[1mLayer (type)                        \u001b[0m\u001b[1m \u001b[0m┃\u001b[1m \u001b[0m\u001b[1mOutput Shape               \u001b[0m\u001b[1m \u001b[0m┃\u001b[1m \u001b[0m\u001b[1m        Param #\u001b[0m\u001b[1m \u001b[0m┃\n",
       "┡━━━━━━━━━━━━━━━━━━━━━━━━━━━━━━━━━━━━━━╇━━━━━━━━━━━━━━━━━━━━━━━━━━━━━╇━━━━━━━━━━━━━━━━━┩\n",
       "│ conv1d_2 (\u001b[38;5;33mConv1D\u001b[0m)                    │ (\u001b[38;5;45mNone\u001b[0m, \u001b[38;5;34m23\u001b[0m, \u001b[38;5;34m64\u001b[0m)              │             \u001b[38;5;34m576\u001b[0m │\n",
       "├──────────────────────────────────────┼─────────────────────────────┼─────────────────┤\n",
       "│ max_pooling1d_2 (\u001b[38;5;33mMaxPooling1D\u001b[0m)       │ (\u001b[38;5;45mNone\u001b[0m, \u001b[38;5;34m11\u001b[0m, \u001b[38;5;34m64\u001b[0m)              │               \u001b[38;5;34m0\u001b[0m │\n",
       "├──────────────────────────────────────┼─────────────────────────────┼─────────────────┤\n",
       "│ flatten_2 (\u001b[38;5;33mFlatten\u001b[0m)                  │ (\u001b[38;5;45mNone\u001b[0m, \u001b[38;5;34m704\u001b[0m)                 │               \u001b[38;5;34m0\u001b[0m │\n",
       "├──────────────────────────────────────┼─────────────────────────────┼─────────────────┤\n",
       "│ dense_4 (\u001b[38;5;33mDense\u001b[0m)                      │ (\u001b[38;5;45mNone\u001b[0m, \u001b[38;5;34m50\u001b[0m)                  │          \u001b[38;5;34m35,250\u001b[0m │\n",
       "├──────────────────────────────────────┼─────────────────────────────┼─────────────────┤\n",
       "│ dropout_2 (\u001b[38;5;33mDropout\u001b[0m)                  │ (\u001b[38;5;45mNone\u001b[0m, \u001b[38;5;34m50\u001b[0m)                  │               \u001b[38;5;34m0\u001b[0m │\n",
       "├──────────────────────────────────────┼─────────────────────────────┼─────────────────┤\n",
       "│ dense_5 (\u001b[38;5;33mDense\u001b[0m)                      │ (\u001b[38;5;45mNone\u001b[0m, \u001b[38;5;34m1\u001b[0m)                   │              \u001b[38;5;34m51\u001b[0m │\n",
       "└──────────────────────────────────────┴─────────────────────────────┴─────────────────┘\n"
      ]
     },
     "metadata": {},
     "output_type": "display_data"
    },
    {
     "data": {
      "text/html": [
       "<pre style=\"white-space:pre;overflow-x:auto;line-height:normal;font-family:Menlo,'DejaVu Sans Mono',consolas,'Courier New',monospace\"><span style=\"font-weight: bold\"> Total params: </span><span style=\"color: #00af00; text-decoration-color: #00af00\">35,877</span> (140.14 KB)\n",
       "</pre>\n"
      ],
      "text/plain": [
       "\u001b[1m Total params: \u001b[0m\u001b[38;5;34m35,877\u001b[0m (140.14 KB)\n"
      ]
     },
     "metadata": {},
     "output_type": "display_data"
    },
    {
     "data": {
      "text/html": [
       "<pre style=\"white-space:pre;overflow-x:auto;line-height:normal;font-family:Menlo,'DejaVu Sans Mono',consolas,'Courier New',monospace\"><span style=\"font-weight: bold\"> Trainable params: </span><span style=\"color: #00af00; text-decoration-color: #00af00\">35,877</span> (140.14 KB)\n",
       "</pre>\n"
      ],
      "text/plain": [
       "\u001b[1m Trainable params: \u001b[0m\u001b[38;5;34m35,877\u001b[0m (140.14 KB)\n"
      ]
     },
     "metadata": {},
     "output_type": "display_data"
    },
    {
     "data": {
      "text/html": [
       "<pre style=\"white-space:pre;overflow-x:auto;line-height:normal;font-family:Menlo,'DejaVu Sans Mono',consolas,'Courier New',monospace\"><span style=\"font-weight: bold\"> Non-trainable params: </span><span style=\"color: #00af00; text-decoration-color: #00af00\">0</span> (0.00 B)\n",
       "</pre>\n"
      ],
      "text/plain": [
       "\u001b[1m Non-trainable params: \u001b[0m\u001b[38;5;34m0\u001b[0m (0.00 B)\n"
      ]
     },
     "metadata": {},
     "output_type": "display_data"
    },
    {
     "name": "stdout",
     "output_type": "stream",
     "text": [
      "Epoch 1/500\n",
      "36/36 - 2s - 64ms/step - loss: 1815414.0000 - val_loss: 1383481.1250\n",
      "Epoch 2/500\n",
      "36/36 - 0s - 10ms/step - loss: 1541667.3750 - val_loss: 1323901.2500\n",
      "Epoch 3/500\n",
      "36/36 - 0s - 10ms/step - loss: 1481690.7500 - val_loss: 1298342.0000\n",
      "Epoch 4/500\n",
      "36/36 - 0s - 10ms/step - loss: 1459751.6250 - val_loss: 1283565.8750\n",
      "Epoch 5/500\n",
      "36/36 - 0s - 10ms/step - loss: 1445785.8750 - val_loss: 1293409.3750\n",
      "Epoch 6/500\n",
      "36/36 - 0s - 10ms/step - loss: 1435066.8750 - val_loss: 1277789.8750\n",
      "Epoch 7/500\n",
      "36/36 - 0s - 9ms/step - loss: 1433655.1250 - val_loss: 1279643.2500\n",
      "Epoch 8/500\n",
      "36/36 - 0s - 10ms/step - loss: 1440975.6250 - val_loss: 1275044.5000\n",
      "Epoch 9/500\n",
      "36/36 - 0s - 10ms/step - loss: 1433393.6250 - val_loss: 1280237.7500\n",
      "Epoch 10/500\n",
      "36/36 - 0s - 10ms/step - loss: 1433554.3750 - val_loss: 1276043.5000\n",
      "Epoch 11/500\n",
      "36/36 - 0s - 10ms/step - loss: 1414829.3750 - val_loss: 1276048.1250\n",
      "Epoch 12/500\n",
      "36/36 - 0s - 10ms/step - loss: 1426587.3750 - val_loss: 1281952.8750\n",
      "Epoch 13/500\n",
      "36/36 - 0s - 10ms/step - loss: 1417500.8750 - val_loss: 1273644.2500\n",
      "Epoch 14/500\n",
      "36/36 - 0s - 9ms/step - loss: 1425012.0000 - val_loss: 1273541.2500\n",
      "Epoch 15/500\n",
      "36/36 - 0s - 10ms/step - loss: 1417099.8750 - val_loss: 1273664.0000\n",
      "Epoch 16/500\n",
      "36/36 - 0s - 13ms/step - loss: 1415043.1250 - val_loss: 1271982.8750\n",
      "Epoch 17/500\n",
      "36/36 - 0s - 10ms/step - loss: 1407491.1250 - val_loss: 1273046.3750\n",
      "Epoch 18/500\n",
      "36/36 - 0s - 10ms/step - loss: 1415069.1250 - val_loss: 1277211.6250\n",
      "Epoch 19/500\n",
      "36/36 - 0s - 10ms/step - loss: 1415103.6250 - val_loss: 1271525.5000\n",
      "Epoch 20/500\n",
      "36/36 - 0s - 10ms/step - loss: 1408517.3750 - val_loss: 1271717.0000\n",
      "Epoch 21/500\n",
      "36/36 - 0s - 10ms/step - loss: 1412436.0000 - val_loss: 1273231.1250\n",
      "Epoch 22/500\n",
      "36/36 - 0s - 9ms/step - loss: 1406805.1250 - val_loss: 1276229.8750\n",
      "Epoch 23/500\n",
      "36/36 - 0s - 9ms/step - loss: 1413770.5000 - val_loss: 1273910.1250\n",
      "Epoch 24/500\n",
      "36/36 - 0s - 10ms/step - loss: 1415304.8750 - val_loss: 1274647.3750\n",
      "Epoch 25/500\n",
      "36/36 - 0s - 10ms/step - loss: 1400196.0000 - val_loss: 1290898.8750\n",
      "Epoch 26/500\n",
      "36/36 - 0s - 10ms/step - loss: 1406034.2500 - val_loss: 1277875.6250\n",
      "Epoch 27/500\n",
      "36/36 - 0s - 10ms/step - loss: 1393177.8750 - val_loss: 1304882.6250\n",
      "Epoch 28/500\n",
      "36/36 - 0s - 10ms/step - loss: 1453289.1250 - val_loss: 1299429.8750\n",
      "Epoch 29/500\n",
      "36/36 - 0s - 10ms/step - loss: 1407503.5000 - val_loss: 1278053.5000\n",
      "Epoch 30/500\n",
      "36/36 - 0s - 10ms/step - loss: 1411011.2500 - val_loss: 1277430.5000\n",
      "Epoch 31/500\n",
      "36/36 - 0s - 10ms/step - loss: 1396471.6250 - val_loss: 1275443.2500\n",
      "Epoch 32/500\n",
      "36/36 - 0s - 10ms/step - loss: 1396101.1250 - val_loss: 1274589.7500\n",
      "Epoch 33/500\n",
      "36/36 - 0s - 10ms/step - loss: 1399506.7500 - val_loss: 1273982.1250\n",
      "Epoch 34/500\n",
      "36/36 - 0s - 9ms/step - loss: 1400850.2500 - val_loss: 1277819.3750\n",
      "Epoch 35/500\n",
      "36/36 - 0s - 9ms/step - loss: 1401786.2500 - val_loss: 1273858.6250\n",
      "Epoch 36/500\n",
      "36/36 - 0s - 9ms/step - loss: 1393815.6250 - val_loss: 1274925.6250\n",
      "Epoch 37/500\n",
      "36/36 - 0s - 10ms/step - loss: 1393706.1250 - val_loss: 1283433.6250\n",
      "Epoch 38/500\n",
      "36/36 - 0s - 10ms/step - loss: 1397834.3750 - val_loss: 1281627.0000\n",
      "Epoch 39/500\n",
      "36/36 - 0s - 9ms/step - loss: 1397569.7500 - val_loss: 1275119.2500\n",
      "Epoch 40/500\n",
      "36/36 - 0s - 9ms/step - loss: 1392379.5000 - val_loss: 1285644.5000\n",
      "Epoch 41/500\n",
      "36/36 - 0s - 10ms/step - loss: 1400128.7500 - val_loss: 1278196.3750\n",
      "Epoch 42/500\n",
      "36/36 - 0s - 9ms/step - loss: 1394120.1250 - val_loss: 1278921.6250\n",
      "Epoch 43/500\n",
      "36/36 - 0s - 10ms/step - loss: 1379623.5000 - val_loss: 1282711.2500\n",
      "Epoch 44/500\n",
      "36/36 - 0s - 10ms/step - loss: 1382440.5000 - val_loss: 1293653.5000\n",
      "Epoch 45/500\n",
      "36/36 - 0s - 10ms/step - loss: 1388781.3750 - val_loss: 1280124.0000\n",
      "Epoch 46/500\n",
      "36/36 - 0s - 10ms/step - loss: 1386348.6250 - val_loss: 1277882.0000\n",
      "Epoch 47/500\n",
      "36/36 - 0s - 10ms/step - loss: 1389778.7500 - val_loss: 1284631.8750\n",
      "Epoch 48/500\n",
      "36/36 - 0s - 9ms/step - loss: 1379259.5000 - val_loss: 1279849.5000\n",
      "Epoch 49/500\n",
      "36/36 - 0s - 10ms/step - loss: 1386882.6250 - val_loss: 1280406.7500\n",
      "Epoch 50/500\n",
      "36/36 - 0s - 10ms/step - loss: 1394644.2500 - val_loss: 1289358.2500\n",
      "Epoch 51/500\n",
      "36/36 - 0s - 10ms/step - loss: 1382078.3750 - val_loss: 1280151.2500\n",
      "Epoch 52/500\n",
      "36/36 - 0s - 10ms/step - loss: 1386971.0000 - val_loss: 1282307.5000\n",
      "Epoch 53/500\n",
      "36/36 - 0s - 10ms/step - loss: 1374639.2500 - val_loss: 1298620.2500\n",
      "Epoch 54/500\n",
      "36/36 - 0s - 10ms/step - loss: 1382577.7500 - val_loss: 1284105.3750\n",
      "Epoch 55/500\n",
      "36/36 - 0s - 10ms/step - loss: 1370148.8750 - val_loss: 1284233.6250\n",
      "Epoch 56/500\n",
      "36/36 - 0s - 10ms/step - loss: 1377012.6250 - val_loss: 1282233.0000\n",
      "Epoch 57/500\n",
      "36/36 - 0s - 9ms/step - loss: 1386196.8750 - val_loss: 1311709.8750\n",
      "Epoch 58/500\n",
      "36/36 - 0s - 10ms/step - loss: 1416426.8750 - val_loss: 1292507.0000\n",
      "Epoch 59/500\n",
      "36/36 - 0s - 10ms/step - loss: 1382014.8750 - val_loss: 1285516.7500\n",
      "Epoch 60/500\n",
      "36/36 - 0s - 10ms/step - loss: 1376055.1250 - val_loss: 1288732.3750\n",
      "Epoch 61/500\n",
      "36/36 - 0s - 10ms/step - loss: 1374411.6250 - val_loss: 1294371.0000\n",
      "Epoch 62/500\n",
      "36/36 - 0s - 10ms/step - loss: 1380049.0000 - val_loss: 1296525.7500\n",
      "Epoch 63/500\n",
      "36/36 - 0s - 10ms/step - loss: 1373860.6250 - val_loss: 1290551.3750\n",
      "Epoch 64/500\n",
      "36/36 - 0s - 10ms/step - loss: 1364772.3750 - val_loss: 1291854.2500\n",
      "Epoch 65/500\n",
      "36/36 - 0s - 10ms/step - loss: 1375216.1250 - val_loss: 1295642.1250\n",
      "Epoch 66/500\n",
      "36/36 - 0s - 10ms/step - loss: 1399140.1250 - val_loss: 1293219.2500\n",
      "Epoch 67/500\n",
      "36/36 - 0s - 9ms/step - loss: 1375094.8750 - val_loss: 1294377.5000\n",
      "Epoch 68/500\n",
      "36/36 - 0s - 10ms/step - loss: 1384959.8750 - val_loss: 1295924.6250\n",
      "Epoch 69/500\n",
      "36/36 - 0s - 10ms/step - loss: 1369376.6250 - val_loss: 1302168.8750\n",
      "Epoch 69: early stopping\n",
      "Restoring model weights from the end of the best epoch: 19.\n",
      "{'loss': [1815414.0, 1541667.375, 1481690.75, 1459751.625, 1445785.875, 1435066.875, 1433655.125, 1440975.625, 1433393.625, 1433554.375, 1414829.375, 1426587.375, 1417500.875, 1425012.0, 1417099.875, 1415043.125, 1407491.125, 1415069.125, 1415103.625, 1408517.375, 1412436.0, 1406805.125, 1413770.5, 1415304.875, 1400196.0, 1406034.25, 1393177.875, 1453289.125, 1407503.5, 1411011.25, 1396471.625, 1396101.125, 1399506.75, 1400850.25, 1401786.25, 1393815.625, 1393706.125, 1397834.375, 1397569.75, 1392379.5, 1400128.75, 1394120.125, 1379623.5, 1382440.5, 1388781.375, 1386348.625, 1389778.75, 1379259.5, 1386882.625, 1394644.25, 1382078.375, 1386971.0, 1374639.25, 1382577.75, 1370148.875, 1377012.625, 1386196.875, 1416426.875, 1382014.875, 1376055.125, 1374411.625, 1380049.0, 1373860.625, 1364772.375, 1375216.125, 1399140.125, 1375094.875, 1384959.875, 1369376.625], 'val_loss': [1383481.125, 1323901.25, 1298342.0, 1283565.875, 1293409.375, 1277789.875, 1279643.25, 1275044.5, 1280237.75, 1276043.5, 1276048.125, 1281952.875, 1273644.25, 1273541.25, 1273664.0, 1271982.875, 1273046.375, 1277211.625, 1271525.5, 1271717.0, 1273231.125, 1276229.875, 1273910.125, 1274647.375, 1290898.875, 1277875.625, 1304882.625, 1299429.875, 1278053.5, 1277430.5, 1275443.25, 1274589.75, 1273982.125, 1277819.375, 1273858.625, 1274925.625, 1283433.625, 1281627.0, 1275119.25, 1285644.5, 1278196.375, 1278921.625, 1282711.25, 1293653.5, 1280124.0, 1277882.0, 1284631.875, 1279849.5, 1280406.75, 1289358.25, 1280151.25, 1282307.5, 1298620.25, 1284105.375, 1284233.625, 1282233.0, 1311709.875, 1292507.0, 1285516.75, 1288732.375, 1294371.0, 1296525.75, 1290551.375, 1291854.25, 1295642.125, 1293219.25, 1294377.5, 1295924.625, 1302168.875]}\n"
     ]
    }
   ],
   "source": [
    "import numpy as np\n",
    "import tensorflow as tf\n",
    "from tensorflow.keras.models import Sequential\n",
    "from tensorflow.keras.layers import Conv1D, MaxPooling1D, Dense, Flatten, Dropout\n",
    "from tensorflow.keras.callbacks import EarlyStopping\n",
    "from sklearn.model_selection import train_test_split\n",
    "\n",
    "# Define hyperparameters\n",
    "epochs = 500\n",
    "batch = 256\n",
    "lr = 0.0003\n",
    "adam = tf.keras.optimizers.Adam(learning_rate=lr)\n",
    "\n",
    "# Select only numeric columns\n",
    "numeric_columns = ['variant_price']\n",
    "window = 29\n",
    "future_span = 30\n",
    "for i in range(1, window + 1):\n",
    "    numeric_columns.append(f'variant_price(t-{i})')\n",
    "numeric_columns.append(f'variant_price(t+{future_span})')\n",
    "\n",
    "# Filter the dataframe to keep only numeric columns\n",
    "df_numeric = df[numeric_columns]\n",
    "\n",
    "# Drop rows with NaN values that may have been introduced by shifting\n",
    "df_numeric = df_numeric.dropna()\n",
    "\n",
    "# Extract labels\n",
    "labels_col = f'variant_price(t+{future_span})'\n",
    "labels = df_numeric[labels_col]\n",
    "X = df_numeric.drop(labels_col, axis=1)\n",
    "\n",
    "# Split the data into training and validation sets\n",
    "X_train, X_valid, Y_train, Y_valid = train_test_split(X, labels.values, test_size=0.4, random_state=0)\n",
    "\n",
    "# Convert data to float32\n",
    "X_train = X_train.astype(np.float32)\n",
    "X_valid = X_valid.astype(np.float32)\n",
    "Y_train = Y_train.astype(np.float32)\n",
    "Y_valid = Y_valid.astype(np.float32)\n",
    "\n",
    "# Reshape the data\n",
    "X_train_series = X_train.values.reshape((X_train.shape[0], X_train.shape[1], 1))\n",
    "X_valid_series = X_valid.values.reshape((X_valid.shape[0], X_valid.shape[1], 1))\n",
    "\n",
    "# Display the shapes of the datasets\n",
    "print('Train set shape:', X_train_series.shape)\n",
    "print('Validation set shape:', X_valid_series.shape)\n",
    "\n",
    "# Construct the neural network\n",
    "model_cnn = Sequential()\n",
    "model_cnn.add(Conv1D(filters=64, kernel_size=8, activation='relu', input_shape=(X_train_series.shape[1], X_train_series.shape[2])))\n",
    "model_cnn.add(MaxPooling1D(pool_size=2))\n",
    "model_cnn.add(Flatten())\n",
    "model_cnn.add(Dense(50, activation='relu'))\n",
    "model_cnn.add(Dropout(0.2))\n",
    "model_cnn.add(Dense(1))\n",
    "model_cnn.compile(loss='mse', optimizer=adam)\n",
    "model_cnn.summary()\n",
    "\n",
    "# Define early stopping monitor\n",
    "monitor = EarlyStopping(monitor='val_loss', min_delta=1e-3, patience=50, \n",
    "                        verbose=1, mode='auto', restore_best_weights=True)\n",
    "\n",
    "# Fit the model\n",
    "cnn_history = model_cnn.fit(\n",
    "    X_train_series, Y_train, \n",
    "    validation_data=(X_valid_series, Y_valid), \n",
    "    epochs=epochs, \n",
    "    batch_size=batch, \n",
    "    callbacks=[monitor], \n",
    "    verbose=2\n",
    ")\n",
    "\n",
    "# Print the training history\n",
    "print(cnn_history.history)\n"
   ]
  },
  {
   "cell_type": "code",
   "execution_count": 45,
   "id": "ba1a221f-b42f-4d34-91ab-fac278b35ed7",
   "metadata": {},
   "outputs": [
    {
     "name": "stdout",
     "output_type": "stream",
     "text": [
      "\u001b[1m281/281\u001b[0m \u001b[32m━━━━━━━━━━━━━━━━━━━━\u001b[0m\u001b[37m\u001b[0m \u001b[1m1s\u001b[0m 2ms/step\n",
      "\u001b[1m187/187\u001b[0m \u001b[32m━━━━━━━━━━━━━━━━━━━━\u001b[0m\u001b[37m\u001b[0m \u001b[1m0s\u001b[0m 2ms/step\n",
      "Train RMSE: 1172.2397\n",
      "Validation RMSE: 1127.6194\n"
     ]
    }
   ],
   "source": [
    "from sklearn.metrics import mean_squared_error\n",
    "import numpy as np\n",
    "\n",
    "# Make predictions on the training and validation sets\n",
    "cnn_train_pred = model_cnn.predict(X_train_series)\n",
    "cnn_valid_pred = model_cnn.predict(X_valid_series)\n",
    "\n",
    "# Evaluate the predictions\n",
    "train_rmse = np.sqrt(mean_squared_error(Y_train, cnn_train_pred))\n",
    "valid_rmse = np.sqrt(mean_squared_error(Y_valid, cnn_valid_pred))\n",
    "\n",
    "# Print the RMSE values\n",
    "print('Train RMSE:', train_rmse)\n",
    "print('Validation RMSE:', valid_rmse)\n"
   ]
  },
  {
   "cell_type": "code",
   "execution_count": 47,
   "id": "5af0f117-b3eb-4949-bb97-7cf32ca27b16",
   "metadata": {},
   "outputs": [
    {
     "data": {
      "image/png": "[encoded data removed]",
      "text/plain": [
       "<Figure size 640x480 with 1 Axes>"
      ]
     },
     "metadata": {},
     "output_type": "display_data"
    }
   ],
   "source": [
    "import matplotlib.pyplot as plt\n",
    "\n",
    "# Replace cnn_history with your actual training history object\n",
    "fig = plt.figure()\n",
    "plt.plot(cnn_history.history['loss'], label='Train loss')\n",
    "plt.plot(cnn_history.history['val_loss'], label='Validation loss')\n",
    "plt.legend()\n",
    "plt.title('Training and Validation Loss')\n",
    "plt.xlabel('Epochs')\n",
    "plt.ylabel('Loss')\n",
    "plt.show()\n"
   ]
  },
  {
   "cell_type": "code",
   "execution_count": 48,
   "id": "89703163-ead6-4199-9b3f-05fdad88efe3",
   "metadata": {},
   "outputs": [
    {
     "data": {
      "image/png": "[encoded data removed]",
      "text/plain": [
       "<Figure size 1400x600 with 2 Axes>"
      ]
     },
     "metadata": {},
     "output_type": "display_data"
    }
   ],
   "source": [
    "import matplotlib.pyplot as plt\n",
    "\n",
    "# Calculate residuals\n",
    "train_residuals = Y_train - cnn_train_pred.flatten()\n",
    "valid_residuals = Y_valid - cnn_valid_pred.flatten()\n",
    "\n",
    "# Plot residuals\n",
    "plt.figure(figsize=(14, 6))\n",
    "\n",
    "plt.subplot(1, 2, 1)\n",
    "plt.scatter(cnn_train_pred, train_residuals, alpha=0.5)\n",
    "plt.title('Train Residuals')\n",
    "plt.xlabel('Predicted')\n",
    "plt.ylabel('Residuals')\n",
    "\n",
    "plt.subplot(1, 2, 2)\n",
    "plt.scatter(cnn_valid_pred, valid_residuals, alpha=0.5)\n",
    "plt.title('Validation Residuals')\n",
    "plt.xlabel('Predicted')\n",
    "plt.ylabel('Residuals')\n",
    "\n",
    "plt.show()\n"
   ]
  },
  {
   "cell_type": "code",
   "execution_count": 50,
   "id": "53eee3ac-bbdb-4f87-ac2a-68ce4e6799c6",
   "metadata": {},
   "outputs": [
    {
     "name": "stdout",
     "output_type": "stream",
     "text": [
      "Baseline model RMSE: 1108.2422\n"
     ]
    }
   ],
   "source": [
    "from sklearn.dummy import DummyRegressor\n",
    "\n",
    "# Create a baseline model\n",
    "dummy_regressor = DummyRegressor(strategy=\"mean\")\n",
    "dummy_regressor.fit(X_train, Y_train)\n",
    "dummy_pred = dummy_regressor.predict(X_valid)\n",
    "\n",
    "# Calculate RMSE for baseline model\n",
    "dummy_rmse = np.sqrt(mean_squared_error(Y_valid, dummy_pred))\n",
    "print('Baseline model RMSE:', dummy_rmse)\n"
   ]
  },
  {
   "cell_type": "code",
   "execution_count": 55,
   "id": "edd48d69-ca71-4c0e-ba76-df80c279037d",
   "metadata": {},
   "outputs": [
    {
     "name": "stdout",
     "output_type": "stream",
     "text": [
      "success\n"
     ]
    }
   ],
   "source": [
    "# Step 3: Neurosymbolic Integration\n",
    "# Implement rule extraction and logical reasoning methods here\n",
    "def apply_rules(cnn_features, demographic_data):\n",
    "    # Implement logical rules based on cnn_features and demographic_data\n",
    "    # Example:\n",
    "    if demographic_data['age'] < 30 and cnn_features['style'] == 'casual':\n",
    "        return 'Preference for casual styles among younger age groups'\n",
    "    else:\n",
    "        return 'No specific preference inferred'\n",
    "print(\"success\")"
   ]
  },
  {
   "cell_type": "code",
   "execution_count": 63,
   "id": "09c141de-4bf7-4a90-a0ce-e34d7c19eed6",
   "metadata": {},
   "outputs": [
    {
     "name": "stdout",
     "output_type": "stream",
     "text": [
      "success\n"
     ]
    }
   ],
   "source": [
    "# Example symbolic reasoning function based on actual data\n",
    "def apply_rules(cnn_features, demographic_data):\n",
    "    predictions = []\n",
    "    for i in range(len(cnn_features)):\n",
    "        cnn_feature = cnn_features[i]  # CNN features for current sample\n",
    "        demographic_info = demographic_data.iloc[i]  # Demographic info for current sample\n",
    "        \n",
    "        # Example rule-based reasoning based on insights\n",
    "        if demographic_info['age'] < 30 and cnn_feature[0] > 0.5:  # Example condition based on insights\n",
    "            prediction = 'Preference for trendy and youthful fashion styles'\n",
    "        elif demographic_info['gender'] == 'Female' and cnn_feature[1] > 0.3:  # Example condition based on insights\n",
    "            prediction = 'Preference for elegant and feminine fashion styles'\n",
    "        else:\n",
    "            prediction = 'No specific preference inferred'\n",
    "        \n",
    "        predictions.append(prediction)\n",
    "    \n",
    "    return predictions\n",
    "print(\"success\")"
   ]
  },
  {
   "cell_type": "code",
   "execution_count": 67,
   "id": "3b7f690c-97fd-42a9-8544-d99480071b8d",
   "metadata": {},
   "outputs": [
    {
     "name": "stdout",
     "output_type": "stream",
     "text": [
      "Columns in the Dataset:\n",
      "Index(['uniq_id', 'crawl_timestamp', 'product_id', 'link', 'size',\n",
      "       'variant_sku', 'brand', 'care_instructions', 'dominant_material',\n",
      "       'title', 'actual_color', 'dominant_color', 'product_type', 'images',\n",
      "       'body', 'product_details', 'size_fit', 'complete_the_look', 'type',\n",
      "       'variant_price', 'variant_compare_at_price', 'ideal_for', 'is_in_stock',\n",
      "       'inventory', 'specifications', 'Unnamed: 25'],\n",
      "      dtype='object')\n"
     ]
    }
   ],
   "source": [
    "import pandas as pd\n",
    "\n",
    "# Load your dataset\n",
    "file_path = 'C:/Users/RAKSHITHA/OneDrive/Documents/Continuous_DateS_Range-LAPTOP-98PL5KBA.csv'\n",
    "df = pd.read_csv(file_path)\n",
    "\n",
    "# Display the columns to understand the structure of your dataset\n",
    "print(\"Columns in the Dataset:\")\n",
    "print(df.columns)\n"
   ]
  },
  {
   "cell_type": "code",
   "execution_count": 68,
   "id": "58e08ca4-2550-4a02-81f1-e02e6661c2b9",
   "metadata": {},
   "outputs": [
    {
     "name": "stdout",
     "output_type": "stream",
     "text": [
      "Columns in the Dataset:\n",
      "Index(['uniq_id', 'crawl_timestamp', 'product_id', 'link', 'size',\n",
      "       'variant_sku', 'brand', 'care_instructions', 'dominant_material',\n",
      "       'title', 'actual_color', 'dominant_color', 'product_type', 'images',\n",
      "       'body', 'product_details', 'size_fit', 'complete_the_look', 'type',\n",
      "       'variant_price', 'variant_compare_at_price', 'ideal_for', 'is_in_stock',\n",
      "       'inventory', 'specifications', 'Unnamed: 25'],\n",
      "      dtype='object')\n",
      "\n",
      "CNN Features:\n",
      "[[2396 5990]\n",
      " [ 698 1995]\n",
      " [ 719 1799]\n",
      " [ 799 1599]\n",
      " [2024 4499]]\n",
      "\n",
      "Demographic Data:\n",
      "[['Black | Cream' 'Black' 'Kurta with Pyjamas & Printed Nehru Jacket']\n",
      " ['Blue' 'Blue' 'Straight Kurta']\n",
      " ['Yellow | Brown | Mustard' 'Mustard' 'A-Line Kurta']\n",
      " ['Blue | Purple' 'Blue' nan]\n",
      " ['Black' 'Black' 'Kurta with Dhoti Pants']]\n"
     ]
    }
   ],
   "source": [
    "import pandas as pd\n",
    "\n",
    "# Load your dataset\n",
    "file_path = 'C:/Users/RAKSHITHA/OneDrive/Documents/Continuous_DateS_Range-LAPTOP-98PL5KBA.csv'\n",
    "df = pd.read_csv(file_path)\n",
    "\n",
    "# Display the columns to understand the structure of your dataset\n",
    "print(\"Columns in the Dataset:\")\n",
    "print(df.columns)\n",
    "\n",
    "# Replace ellipses with actual column names from your dataset\n",
    "cnn_feature_columns = ['variant_price', 'variant_compare_at_price']  # Example CNN feature columns\n",
    "demographic_columns = ['actual_color', 'dominant_color', 'product_type']  # Example demographic columns\n",
    "\n",
    "# Extract CNN features and demographic data\n",
    "X_cnn_features_actual = df[cnn_feature_columns].values\n",
    "demographic_data_actual = df[demographic_columns].values\n",
    "\n",
    "# Display the first few rows to verify the data loading\n",
    "print(\"\\nCNN Features:\")\n",
    "print(X_cnn_features_actual[:5])\n",
    "\n",
    "print(\"\\nDemographic Data:\")\n",
    "print(demographic_data_actual[:5])\n"
   ]
  },
  {
   "cell_type": "code",
   "execution_count": 69,
   "id": "d25dec16-8dc0-47b9-a840-f7767efb2e7a",
   "metadata": {},
   "outputs": [
    {
     "name": "stdout",
     "output_type": "stream",
     "text": [
      "CNN Features:\n",
      "   variant_price  variant_compare_at_price\n",
      "0           2396                      5990\n",
      "1            698                      1995\n",
      "2            719                      1799\n",
      "3            799                      1599\n",
      "4           2024                      4499\n",
      "\n",
      "Demographic Data:\n",
      "   actual_color  dominant_color  product_type\n",
      "0            48               1           124\n",
      "1            69               2           229\n",
      "2           439              23             3\n",
      "3           110               2           261\n",
      "4            42               1           101\n"
     ]
    }
   ],
   "source": [
    "import pandas as pd\n",
    "from sklearn.preprocessing import LabelEncoder\n",
    "\n",
    "# Example: Loading CNN features and demographic metadata\n",
    "cnn_features_df = pd.read_csv('C:/Users/RAKSHITHA/OneDrive/Documents/Continuous_DateS_Range-LAPTOP-98PL5KBA.csv')\n",
    "demographic_data_df = pd.read_csv('C:/Users/RAKSHITHA/OneDrive/Documents/Continuous_DateS_Range-LAPTOP-98PL5KBA.csv')\n",
    "\n",
    "# Select relevant columns\n",
    "cnn_features_df = cnn_features_df[cnn_feature_columns]\n",
    "demographic_data_df = demographic_data_df[demographic_columns]\n",
    "\n",
    "# Data preprocessing (if necessary)\n",
    "# Example: Encoding categorical variables in demographic data\n",
    "label_encoders = {}\n",
    "for col in demographic_data_df.columns:\n",
    "    if demographic_data_df[col].dtype == 'object':\n",
    "        label_encoders[col] = LabelEncoder()\n",
    "        demographic_data_df[col] = label_encoders[col].fit_transform(demographic_data_df[col].astype(str))\n",
    "\n",
    "# Display the first few rows to verify data loading and preprocessing\n",
    "print(\"CNN Features:\")\n",
    "print(cnn_features_df.head())\n",
    "print(\"\\nDemographic Data:\")\n",
    "print(demographic_data_df.head())\n"
   ]
  },
  {
   "cell_type": "code",
   "execution_count": 70,
   "id": "5f2c6cb0-5abb-4c64-8cd8-ba5d8f61bf72",
   "metadata": {},
   "outputs": [
    {
     "name": "stdout",
     "output_type": "stream",
     "text": [
      "Sample 1 - Prediction: No specific preference inferred\n",
      "Sample 2 - Prediction: No specific preference inferred\n",
      "Sample 3 - Prediction: No specific preference inferred\n",
      "Sample 4 - Prediction: No specific preference inferred\n",
      "Sample 5 - Prediction: No specific preference inferred\n"
     ]
    }
   ],
   "source": [
    "def apply_rules(cnn_features, demographic_data):\n",
    "    predictions = []\n",
    "    for i in range(len(cnn_features)):\n",
    "        cnn_output = cnn_features.iloc[i]\n",
    "        demographic_info = demographic_data.iloc[i]\n",
    "        \n",
    "        # Example rule: If variant_price is high and product_type is 'Shirt', predict 'Preference for Shirts'\n",
    "        if cnn_output['variant_price'] > 1000 and demographic_info['product_type'] == 'Shirt':\n",
    "            predictions.append('Preference for Shirts')\n",
    "        else:\n",
    "            predictions.append('No specific preference inferred')  # Default prediction\n",
    "        \n",
    "    return predictions\n",
    "\n",
    "# Apply symbolic reasoning with actual data\n",
    "predictions_actual = apply_rules(cnn_features_df, demographic_data_df)\n",
    "\n",
    "# Print example predictions based on actual data\n",
    "for i, pred in enumerate(predictions_actual[:5]):  # Print first 5 predictions as an example\n",
    "    print(f\"Sample {i+1} - Prediction: {pred}\")\n"
   ]
  },
  {
   "cell_type": "code",
   "execution_count": 71,
   "id": "49bebcac-4ce3-407f-8a18-32840cdcb390",
   "metadata": {},
   "outputs": [],
   "source": [
    "# Example of a hybrid model (using a simple rule-based approach)\n",
    "def hybrid_model(cnn_features, demographic_data):\n",
    "    predictions = apply_rules(cnn_features, demographic_data)\n",
    "    return predictions\n",
    "\n",
    "# Example usage of the hybrid model\n",
    "hybrid_predictions = hybrid_model(cnn_features_df, demographic_data_df)\n"
   ]
  },
  {
   "cell_type": "code",
   "execution_count": 76,
   "id": "95f40976-1557-4d3b-a367-b64fce6b9956",
   "metadata": {},
   "outputs": [],
   "source": [
    "# Assuming ground truth labels based on your previous sample predictions\n",
    "ground_truth = [\n",
    "    'No specific preference inferred',\n",
    "    'Preference for Shirts',\n",
    "    'No specific preference inferred',\n",
    "    'Preference for Shirts',\n",
    "    'No specific preference inferred'\n",
    "] * (len(cnn_features_df) // 5)  # Assuming your cnn_features_df has 15000 samples\n"
   ]
  },
  {
   "cell_type": "code",
   "execution_count": 77,
   "id": "1b3a71a1-c59e-4cdb-ad0b-4f02c952f8ba",
   "metadata": {},
   "outputs": [
    {
     "name": "stdout",
     "output_type": "stream",
     "text": [
      "Accuracy: 0.6\n"
     ]
    }
   ],
   "source": [
    "from sklearn.metrics import accuracy_score\n",
    "\n",
    "# Example usage of the hybrid model\n",
    "hybrid_predictions = hybrid_model(cnn_features_df, demographic_data_df)\n",
    "\n",
    "# Ensure ground_truth has the same length as hybrid_predictions\n",
    "ground_truth = [\n",
    "    'No specific preference inferred',\n",
    "    'Preference for Shirts',\n",
    "    'No specific preference inferred',\n",
    "    'Preference for Shirts',\n",
    "    'No specific preference inferred'\n",
    "] * (len(cnn_features_df) // 5)  # Adjust this based on your actual ground truth labels\n",
    "\n",
    "# Calculate accuracy\n",
    "accuracy = accuracy_score(ground_truth, hybrid_predictions)\n",
    "print(f\"Accuracy: {accuracy}\")\n"
   ]
  },
  {
   "cell_type": "code",
   "execution_count": null,
   "id": "bc78429c-1813-402b-90a9-4c7ab5dcd052",
   "metadata": {},
   "outputs": [],
   "source": []
  }
 ],
 "metadata": {
  "kernelspec": {
   "display_name": "Python 3 (ipykernel)",
   "language": "python",
   "name": "python3"
  },
  "language_info": {
   "codemirror_mode": {
    "name": "ipython",
    "version": 3
   },
   "file_extension": ".py",
   "mimetype": "text/x-python",
   "name": "python",
   "nbconvert_exporter": "python",
   "pygments_lexer": "ipython3",
   "version": "3.12.3"
  }
 },
 "nbformat": 4,
 "nbformat_minor": 5
}
